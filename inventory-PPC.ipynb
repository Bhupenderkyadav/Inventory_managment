{
 "cells": [
  {
   "cell_type": "markdown",
   "metadata": {},
   "source": [
    "## Inventory Management (Evaluation & Planning)"
   ]
  },
  {
   "cell_type": "markdown",
   "metadata": {},
   "source": [
    "## Problem Statement:\n",
    "\n",
    "* **Context:** A firm has many products in their inventory, and very few of them tend to sell (only about 10% sell each year) and many of the products only have a single sale in the course of a year\n",
    "\n",
    "* **Objective:** The sales and growth team of the retail firm wants to determine which products from their inventory should they retain to sell and the ones to discard \n",
    "\n",
    "* **Data:** The data given contains both historical sales data AND active inventory\n",
    "\n",
    "* **Goal:** We have a to building a binary classifier which gives us a list of product ID which need to retained in the inventory or list of products that need to be removed"
   ]
  },
  {
   "cell_type": "code",
   "execution_count": 1,
   "metadata": {},
   "outputs": [],
   "source": [
    "# Import important libraries\n",
    "import pandas as pd\n",
    "import numpy as np\n",
    "import matplotlib.pyplot as plt\n",
    "import seaborn as sns\n",
    "import warnings\n",
    "warnings.simplefilter(\"ignore\")"
   ]
  },
  {
   "cell_type": "code",
   "execution_count": 2,
   "metadata": {},
   "outputs": [],
   "source": [
    "# Reading data set\n",
    "data=pd.read_csv('bk_ppc_inventory.csv')"
   ]
  },
  {
   "cell_type": "code",
   "execution_count": 3,
   "metadata": {
    "scrolled": false
   },
   "outputs": [
    {
     "data": {
      "text/html": [
       "<div>\n",
       "<style scoped>\n",
       "    .dataframe tbody tr th:only-of-type {\n",
       "        vertical-align: middle;\n",
       "    }\n",
       "\n",
       "    .dataframe tbody tr th {\n",
       "        vertical-align: top;\n",
       "    }\n",
       "\n",
       "    .dataframe thead th {\n",
       "        text-align: right;\n",
       "    }\n",
       "</style>\n",
       "<table border=\"1\" class=\"dataframe\">\n",
       "  <thead>\n",
       "    <tr style=\"text-align: right;\">\n",
       "      <th></th>\n",
       "      <th>Order</th>\n",
       "      <th>File_Type</th>\n",
       "      <th>Part_lot_number</th>\n",
       "      <th>SoldFlag</th>\n",
       "      <th>SoldCount</th>\n",
       "      <th>MarketingType</th>\n",
       "      <th>ReleaseCount</th>\n",
       "      <th>New_Release_Flag</th>\n",
       "      <th>StrengthFactor</th>\n",
       "      <th>PriceReg</th>\n",
       "      <th>ReleaseYear</th>\n",
       "      <th>ItemCount</th>\n",
       "      <th>LowUserPrice</th>\n",
       "      <th>LowNetPrice</th>\n",
       "    </tr>\n",
       "  </thead>\n",
       "  <tbody>\n",
       "    <tr>\n",
       "      <th>0</th>\n",
       "      <td>2</td>\n",
       "      <td>Historical</td>\n",
       "      <td>1737127</td>\n",
       "      <td>0.0</td>\n",
       "      <td>0.0</td>\n",
       "      <td>D</td>\n",
       "      <td>15</td>\n",
       "      <td>1</td>\n",
       "      <td>6.827430e+05</td>\n",
       "      <td>44.99</td>\n",
       "      <td>2015</td>\n",
       "      <td>8</td>\n",
       "      <td>28.97</td>\n",
       "      <td>31.84</td>\n",
       "    </tr>\n",
       "    <tr>\n",
       "      <th>1</th>\n",
       "      <td>3</td>\n",
       "      <td>Historical</td>\n",
       "      <td>3255963</td>\n",
       "      <td>0.0</td>\n",
       "      <td>0.0</td>\n",
       "      <td>D</td>\n",
       "      <td>7</td>\n",
       "      <td>1</td>\n",
       "      <td>1.016014e+06</td>\n",
       "      <td>24.81</td>\n",
       "      <td>2005</td>\n",
       "      <td>39</td>\n",
       "      <td>0.00</td>\n",
       "      <td>15.54</td>\n",
       "    </tr>\n",
       "    <tr>\n",
       "      <th>2</th>\n",
       "      <td>4</td>\n",
       "      <td>Historical</td>\n",
       "      <td>612701</td>\n",
       "      <td>0.0</td>\n",
       "      <td>0.0</td>\n",
       "      <td>D</td>\n",
       "      <td>0</td>\n",
       "      <td>0</td>\n",
       "      <td>3.404640e+05</td>\n",
       "      <td>46.00</td>\n",
       "      <td>2013</td>\n",
       "      <td>34</td>\n",
       "      <td>30.19</td>\n",
       "      <td>27.97</td>\n",
       "    </tr>\n",
       "    <tr>\n",
       "      <th>3</th>\n",
       "      <td>6</td>\n",
       "      <td>Historical</td>\n",
       "      <td>115883</td>\n",
       "      <td>1.0</td>\n",
       "      <td>1.0</td>\n",
       "      <td>D</td>\n",
       "      <td>4</td>\n",
       "      <td>1</td>\n",
       "      <td>3.340110e+05</td>\n",
       "      <td>100.00</td>\n",
       "      <td>2006</td>\n",
       "      <td>20</td>\n",
       "      <td>133.93</td>\n",
       "      <td>83.15</td>\n",
       "    </tr>\n",
       "    <tr>\n",
       "      <th>4</th>\n",
       "      <td>7</td>\n",
       "      <td>Historical</td>\n",
       "      <td>863939</td>\n",
       "      <td>1.0</td>\n",
       "      <td>1.0</td>\n",
       "      <td>D</td>\n",
       "      <td>2</td>\n",
       "      <td>1</td>\n",
       "      <td>1.287938e+06</td>\n",
       "      <td>121.95</td>\n",
       "      <td>2010</td>\n",
       "      <td>28</td>\n",
       "      <td>4.00</td>\n",
       "      <td>23.99</td>\n",
       "    </tr>\n",
       "    <tr>\n",
       "      <th>...</th>\n",
       "      <td>...</td>\n",
       "      <td>...</td>\n",
       "      <td>...</td>\n",
       "      <td>...</td>\n",
       "      <td>...</td>\n",
       "      <td>...</td>\n",
       "      <td>...</td>\n",
       "      <td>...</td>\n",
       "      <td>...</td>\n",
       "      <td>...</td>\n",
       "      <td>...</td>\n",
       "      <td>...</td>\n",
       "      <td>...</td>\n",
       "      <td>...</td>\n",
       "    </tr>\n",
       "    <tr>\n",
       "      <th>198912</th>\n",
       "      <td>208023</td>\n",
       "      <td>Active</td>\n",
       "      <td>109683</td>\n",
       "      <td>NaN</td>\n",
       "      <td>NaN</td>\n",
       "      <td>D</td>\n",
       "      <td>7</td>\n",
       "      <td>1</td>\n",
       "      <td>2.101869e+05</td>\n",
       "      <td>72.87</td>\n",
       "      <td>2006</td>\n",
       "      <td>54</td>\n",
       "      <td>8.46</td>\n",
       "      <td>60.59</td>\n",
       "    </tr>\n",
       "    <tr>\n",
       "      <th>198913</th>\n",
       "      <td>208024</td>\n",
       "      <td>Active</td>\n",
       "      <td>416462</td>\n",
       "      <td>NaN</td>\n",
       "      <td>NaN</td>\n",
       "      <td>D</td>\n",
       "      <td>8</td>\n",
       "      <td>1</td>\n",
       "      <td>4.555041e+05</td>\n",
       "      <td>247.00</td>\n",
       "      <td>2009</td>\n",
       "      <td>65</td>\n",
       "      <td>8.40</td>\n",
       "      <td>74.85</td>\n",
       "    </tr>\n",
       "    <tr>\n",
       "      <th>198914</th>\n",
       "      <td>208025</td>\n",
       "      <td>Active</td>\n",
       "      <td>658242</td>\n",
       "      <td>NaN</td>\n",
       "      <td>NaN</td>\n",
       "      <td>E</td>\n",
       "      <td>2</td>\n",
       "      <td>1</td>\n",
       "      <td>1.692746e+05</td>\n",
       "      <td>50.00</td>\n",
       "      <td>2012</td>\n",
       "      <td>23</td>\n",
       "      <td>23.98</td>\n",
       "      <td>32.62</td>\n",
       "    </tr>\n",
       "    <tr>\n",
       "      <th>198915</th>\n",
       "      <td>208026</td>\n",
       "      <td>Active</td>\n",
       "      <td>2538340</td>\n",
       "      <td>NaN</td>\n",
       "      <td>NaN</td>\n",
       "      <td>E</td>\n",
       "      <td>2</td>\n",
       "      <td>1</td>\n",
       "      <td>3.775266e+05</td>\n",
       "      <td>46.95</td>\n",
       "      <td>2001</td>\n",
       "      <td>23</td>\n",
       "      <td>27.42</td>\n",
       "      <td>37.89</td>\n",
       "    </tr>\n",
       "    <tr>\n",
       "      <th>198916</th>\n",
       "      <td>208027</td>\n",
       "      <td>Active</td>\n",
       "      <td>416662</td>\n",
       "      <td>NaN</td>\n",
       "      <td>NaN</td>\n",
       "      <td>D</td>\n",
       "      <td>15</td>\n",
       "      <td>1</td>\n",
       "      <td>1.183068e+05</td>\n",
       "      <td>120.00</td>\n",
       "      <td>2010</td>\n",
       "      <td>44</td>\n",
       "      <td>10.97</td>\n",
       "      <td>60.67</td>\n",
       "    </tr>\n",
       "  </tbody>\n",
       "</table>\n",
       "<p>198917 rows × 14 columns</p>\n",
       "</div>"
      ],
      "text/plain": [
       "         Order   File_Type  Part_lot_number  SoldFlag  SoldCount  \\\n",
       "0            2  Historical          1737127       0.0        0.0   \n",
       "1            3  Historical          3255963       0.0        0.0   \n",
       "2            4  Historical           612701       0.0        0.0   \n",
       "3            6  Historical           115883       1.0        1.0   \n",
       "4            7  Historical           863939       1.0        1.0   \n",
       "...        ...         ...              ...       ...        ...   \n",
       "198912  208023      Active           109683       NaN        NaN   \n",
       "198913  208024      Active           416462       NaN        NaN   \n",
       "198914  208025      Active           658242       NaN        NaN   \n",
       "198915  208026      Active          2538340       NaN        NaN   \n",
       "198916  208027      Active           416662       NaN        NaN   \n",
       "\n",
       "       MarketingType  ReleaseCount  New_Release_Flag  StrengthFactor  \\\n",
       "0                  D            15                 1    6.827430e+05   \n",
       "1                  D             7                 1    1.016014e+06   \n",
       "2                  D             0                 0    3.404640e+05   \n",
       "3                  D             4                 1    3.340110e+05   \n",
       "4                  D             2                 1    1.287938e+06   \n",
       "...              ...           ...               ...             ...   \n",
       "198912             D             7                 1    2.101869e+05   \n",
       "198913             D             8                 1    4.555041e+05   \n",
       "198914             E             2                 1    1.692746e+05   \n",
       "198915             E             2                 1    3.775266e+05   \n",
       "198916             D            15                 1    1.183068e+05   \n",
       "\n",
       "        PriceReg  ReleaseYear  ItemCount  LowUserPrice  LowNetPrice  \n",
       "0          44.99         2015          8         28.97        31.84  \n",
       "1          24.81         2005         39          0.00        15.54  \n",
       "2          46.00         2013         34         30.19        27.97  \n",
       "3         100.00         2006         20        133.93        83.15  \n",
       "4         121.95         2010         28          4.00        23.99  \n",
       "...          ...          ...        ...           ...          ...  \n",
       "198912     72.87         2006         54          8.46        60.59  \n",
       "198913    247.00         2009         65          8.40        74.85  \n",
       "198914     50.00         2012         23         23.98        32.62  \n",
       "198915     46.95         2001         23         27.42        37.89  \n",
       "198916    120.00         2010         44         10.97        60.67  \n",
       "\n",
       "[198917 rows x 14 columns]"
      ]
     },
     "execution_count": 3,
     "metadata": {},
     "output_type": "execute_result"
    }
   ],
   "source": [
    "# list of dataset\n",
    "data"
   ]
  },
  {
   "cell_type": "code",
   "execution_count": 4,
   "metadata": {},
   "outputs": [
    {
     "data": {
      "text/plain": [
       "(198917, 14)"
      ]
     },
     "execution_count": 4,
     "metadata": {},
     "output_type": "execute_result"
    }
   ],
   "source": [
    "# Shape of dataset\n",
    "data.shape"
   ]
  },
  {
   "cell_type": "code",
   "execution_count": 5,
   "metadata": {},
   "outputs": [
    {
     "data": {
      "text/plain": [
       "False    198917\n",
       "dtype: int64"
      ]
     },
     "execution_count": 5,
     "metadata": {},
     "output_type": "execute_result"
    }
   ],
   "source": [
    "# Duplicate value check in dataset\n",
    "data.duplicated().value_counts()"
   ]
  },
  {
   "cell_type": "code",
   "execution_count": 6,
   "metadata": {},
   "outputs": [
    {
     "data": {
      "text/plain": [
       "Index(['Order', 'File_Type', 'Part_lot_number', 'SoldFlag', 'SoldCount',\n",
       "       'MarketingType', 'ReleaseCount', 'New_Release_Flag', 'StrengthFactor',\n",
       "       'PriceReg', 'ReleaseYear', 'ItemCount', 'LowUserPrice', 'LowNetPrice'],\n",
       "      dtype='object')"
      ]
     },
     "execution_count": 6,
     "metadata": {},
     "output_type": "execute_result"
    }
   ],
   "source": [
    "# Feature detail of data set\n",
    "data.columns"
   ]
  },
  {
   "cell_type": "code",
   "execution_count": 7,
   "metadata": {},
   "outputs": [
    {
     "data": {
      "text/plain": [
       "Order               198917\n",
       "File_Type                2\n",
       "Part_lot_number     133360\n",
       "SoldFlag                 2\n",
       "SoldCount               37\n",
       "MarketingType            2\n",
       "ReleaseCount            71\n",
       "New_Release_Flag         2\n",
       "StrengthFactor      197424\n",
       "PriceReg             11627\n",
       "ReleaseYear             85\n",
       "ItemCount              501\n",
       "LowUserPrice         12102\n",
       "LowNetPrice          15403\n",
       "dtype: int64"
      ]
     },
     "execution_count": 7,
     "metadata": {},
     "output_type": "execute_result"
    }
   ],
   "source": [
    "# Number of unique variable in each dataset's Features\n",
    "data.nunique()"
   ]
  },
  {
   "cell_type": "code",
   "execution_count": 8,
   "metadata": {},
   "outputs": [
    {
     "name": "stdout",
     "output_type": "stream",
     "text": [
      "<class 'pandas.core.frame.DataFrame'>\n",
      "RangeIndex: 198917 entries, 0 to 198916\n",
      "Data columns (total 14 columns):\n",
      " #   Column            Non-Null Count   Dtype  \n",
      "---  ------            --------------   -----  \n",
      " 0   Order             198917 non-null  int64  \n",
      " 1   File_Type         198917 non-null  object \n",
      " 2   Part_lot_number   198917 non-null  int64  \n",
      " 3   SoldFlag          75996 non-null   float64\n",
      " 4   SoldCount         75996 non-null   float64\n",
      " 5   MarketingType     198917 non-null  object \n",
      " 6   ReleaseCount      198917 non-null  int64  \n",
      " 7   New_Release_Flag  198917 non-null  int64  \n",
      " 8   StrengthFactor    198917 non-null  float64\n",
      " 9   PriceReg          198917 non-null  float64\n",
      " 10  ReleaseYear       198917 non-null  int64  \n",
      " 11  ItemCount         198917 non-null  int64  \n",
      " 12  LowUserPrice      198917 non-null  float64\n",
      " 13  LowNetPrice       198917 non-null  float64\n",
      "dtypes: float64(6), int64(6), object(2)\n",
      "memory usage: 21.2+ MB\n"
     ]
    }
   ],
   "source": [
    "# Dataset data type and null value presence\n",
    "data.info()"
   ]
  },
  {
   "cell_type": "code",
   "execution_count": 9,
   "metadata": {},
   "outputs": [
    {
     "data": {
      "text/html": [
       "<div>\n",
       "<style scoped>\n",
       "    .dataframe tbody tr th:only-of-type {\n",
       "        vertical-align: middle;\n",
       "    }\n",
       "\n",
       "    .dataframe tbody tr th {\n",
       "        vertical-align: top;\n",
       "    }\n",
       "\n",
       "    .dataframe thead th {\n",
       "        text-align: right;\n",
       "    }\n",
       "</style>\n",
       "<table border=\"1\" class=\"dataframe\">\n",
       "  <thead>\n",
       "    <tr style=\"text-align: right;\">\n",
       "      <th></th>\n",
       "      <th>count</th>\n",
       "      <th>mean</th>\n",
       "      <th>std</th>\n",
       "      <th>min</th>\n",
       "      <th>25%</th>\n",
       "      <th>50%</th>\n",
       "      <th>75%</th>\n",
       "      <th>max</th>\n",
       "    </tr>\n",
       "  </thead>\n",
       "  <tbody>\n",
       "    <tr>\n",
       "      <th>Order</th>\n",
       "      <td>198917.0</td>\n",
       "      <td>1.064835e+05</td>\n",
       "      <td>6.013672e+04</td>\n",
       "      <td>2.000</td>\n",
       "      <td>55665.0000</td>\n",
       "      <td>108569.00</td>\n",
       "      <td>158298.00</td>\n",
       "      <td>208027.00</td>\n",
       "    </tr>\n",
       "    <tr>\n",
       "      <th>Part_lot_number</th>\n",
       "      <td>198917.0</td>\n",
       "      <td>8.613626e+05</td>\n",
       "      <td>8.699794e+05</td>\n",
       "      <td>50001.000</td>\n",
       "      <td>217252.0000</td>\n",
       "      <td>612208.00</td>\n",
       "      <td>904751.00</td>\n",
       "      <td>3960788.00</td>\n",
       "    </tr>\n",
       "    <tr>\n",
       "      <th>SoldFlag</th>\n",
       "      <td>75996.0</td>\n",
       "      <td>1.710090e-01</td>\n",
       "      <td>3.765193e-01</td>\n",
       "      <td>0.000</td>\n",
       "      <td>0.0000</td>\n",
       "      <td>0.00</td>\n",
       "      <td>0.00</td>\n",
       "      <td>1.00</td>\n",
       "    </tr>\n",
       "    <tr>\n",
       "      <th>SoldCount</th>\n",
       "      <td>75996.0</td>\n",
       "      <td>3.223064e-01</td>\n",
       "      <td>1.168615e+00</td>\n",
       "      <td>0.000</td>\n",
       "      <td>0.0000</td>\n",
       "      <td>0.00</td>\n",
       "      <td>0.00</td>\n",
       "      <td>73.00</td>\n",
       "    </tr>\n",
       "    <tr>\n",
       "      <th>ReleaseCount</th>\n",
       "      <td>198917.0</td>\n",
       "      <td>3.412202e+00</td>\n",
       "      <td>3.864243e+00</td>\n",
       "      <td>0.000</td>\n",
       "      <td>1.0000</td>\n",
       "      <td>2.00</td>\n",
       "      <td>5.00</td>\n",
       "      <td>99.00</td>\n",
       "    </tr>\n",
       "    <tr>\n",
       "      <th>New_Release_Flag</th>\n",
       "      <td>198917.0</td>\n",
       "      <td>6.422478e-01</td>\n",
       "      <td>4.793399e-01</td>\n",
       "      <td>0.000</td>\n",
       "      <td>0.0000</td>\n",
       "      <td>1.00</td>\n",
       "      <td>1.00</td>\n",
       "      <td>1.00</td>\n",
       "    </tr>\n",
       "    <tr>\n",
       "      <th>StrengthFactor</th>\n",
       "      <td>198917.0</td>\n",
       "      <td>1.117115e+06</td>\n",
       "      <td>1.522090e+06</td>\n",
       "      <td>6.275</td>\n",
       "      <td>161418.7675</td>\n",
       "      <td>582224.00</td>\n",
       "      <td>1430083.00</td>\n",
       "      <td>17384454.00</td>\n",
       "    </tr>\n",
       "    <tr>\n",
       "      <th>PriceReg</th>\n",
       "      <td>198917.0</td>\n",
       "      <td>9.089524e+01</td>\n",
       "      <td>8.673637e+01</td>\n",
       "      <td>0.000</td>\n",
       "      <td>42.0000</td>\n",
       "      <td>69.95</td>\n",
       "      <td>116.00</td>\n",
       "      <td>12671.48</td>\n",
       "    </tr>\n",
       "    <tr>\n",
       "      <th>ReleaseYear</th>\n",
       "      <td>198917.0</td>\n",
       "      <td>2.006016e+03</td>\n",
       "      <td>9.158331e+00</td>\n",
       "      <td>0.000</td>\n",
       "      <td>2003.0000</td>\n",
       "      <td>2007.00</td>\n",
       "      <td>2011.00</td>\n",
       "      <td>2018.00</td>\n",
       "    </tr>\n",
       "    <tr>\n",
       "      <th>ItemCount</th>\n",
       "      <td>198917.0</td>\n",
       "      <td>4.142628e+01</td>\n",
       "      <td>3.754121e+01</td>\n",
       "      <td>0.000</td>\n",
       "      <td>21.0000</td>\n",
       "      <td>32.00</td>\n",
       "      <td>50.00</td>\n",
       "      <td>2542.00</td>\n",
       "    </tr>\n",
       "    <tr>\n",
       "      <th>LowUserPrice</th>\n",
       "      <td>198917.0</td>\n",
       "      <td>3.098249e+01</td>\n",
       "      <td>6.906616e+01</td>\n",
       "      <td>0.000</td>\n",
       "      <td>4.9100</td>\n",
       "      <td>16.08</td>\n",
       "      <td>40.24</td>\n",
       "      <td>14140.21</td>\n",
       "    </tr>\n",
       "    <tr>\n",
       "      <th>LowNetPrice</th>\n",
       "      <td>198917.0</td>\n",
       "      <td>4.683205e+01</td>\n",
       "      <td>1.285132e+02</td>\n",
       "      <td>0.000</td>\n",
       "      <td>17.9500</td>\n",
       "      <td>33.98</td>\n",
       "      <td>55.49</td>\n",
       "      <td>19138.79</td>\n",
       "    </tr>\n",
       "  </tbody>\n",
       "</table>\n",
       "</div>"
      ],
      "text/plain": [
       "                     count          mean           std        min  \\\n",
       "Order             198917.0  1.064835e+05  6.013672e+04      2.000   \n",
       "Part_lot_number   198917.0  8.613626e+05  8.699794e+05  50001.000   \n",
       "SoldFlag           75996.0  1.710090e-01  3.765193e-01      0.000   \n",
       "SoldCount          75996.0  3.223064e-01  1.168615e+00      0.000   \n",
       "ReleaseCount      198917.0  3.412202e+00  3.864243e+00      0.000   \n",
       "New_Release_Flag  198917.0  6.422478e-01  4.793399e-01      0.000   \n",
       "StrengthFactor    198917.0  1.117115e+06  1.522090e+06      6.275   \n",
       "PriceReg          198917.0  9.089524e+01  8.673637e+01      0.000   \n",
       "ReleaseYear       198917.0  2.006016e+03  9.158331e+00      0.000   \n",
       "ItemCount         198917.0  4.142628e+01  3.754121e+01      0.000   \n",
       "LowUserPrice      198917.0  3.098249e+01  6.906616e+01      0.000   \n",
       "LowNetPrice       198917.0  4.683205e+01  1.285132e+02      0.000   \n",
       "\n",
       "                          25%        50%         75%          max  \n",
       "Order              55665.0000  108569.00   158298.00    208027.00  \n",
       "Part_lot_number   217252.0000  612208.00   904751.00   3960788.00  \n",
       "SoldFlag               0.0000       0.00        0.00         1.00  \n",
       "SoldCount              0.0000       0.00        0.00        73.00  \n",
       "ReleaseCount           1.0000       2.00        5.00        99.00  \n",
       "New_Release_Flag       0.0000       1.00        1.00         1.00  \n",
       "StrengthFactor    161418.7675  582224.00  1430083.00  17384454.00  \n",
       "PriceReg              42.0000      69.95      116.00     12671.48  \n",
       "ReleaseYear         2003.0000    2007.00     2011.00      2018.00  \n",
       "ItemCount             21.0000      32.00       50.00      2542.00  \n",
       "LowUserPrice           4.9100      16.08       40.24     14140.21  \n",
       "LowNetPrice           17.9500      33.98       55.49     19138.79  "
      ]
     },
     "execution_count": 9,
     "metadata": {},
     "output_type": "execute_result"
    }
   ],
   "source": [
    "# Statistical description of numrical dataset\n",
    "data.describe().T"
   ]
  },
  {
   "cell_type": "code",
   "execution_count": 10,
   "metadata": {},
   "outputs": [
    {
     "data": {
      "text/html": [
       "<div>\n",
       "<style scoped>\n",
       "    .dataframe tbody tr th:only-of-type {\n",
       "        vertical-align: middle;\n",
       "    }\n",
       "\n",
       "    .dataframe tbody tr th {\n",
       "        vertical-align: top;\n",
       "    }\n",
       "\n",
       "    .dataframe thead th {\n",
       "        text-align: right;\n",
       "    }\n",
       "</style>\n",
       "<table border=\"1\" class=\"dataframe\">\n",
       "  <thead>\n",
       "    <tr style=\"text-align: right;\">\n",
       "      <th></th>\n",
       "      <th>File_Type</th>\n",
       "      <th>MarketingType</th>\n",
       "    </tr>\n",
       "  </thead>\n",
       "  <tbody>\n",
       "    <tr>\n",
       "      <th>count</th>\n",
       "      <td>198917</td>\n",
       "      <td>198917</td>\n",
       "    </tr>\n",
       "    <tr>\n",
       "      <th>unique</th>\n",
       "      <td>2</td>\n",
       "      <td>2</td>\n",
       "    </tr>\n",
       "    <tr>\n",
       "      <th>top</th>\n",
       "      <td>Active</td>\n",
       "      <td>E</td>\n",
       "    </tr>\n",
       "    <tr>\n",
       "      <th>freq</th>\n",
       "      <td>122921</td>\n",
       "      <td>100946</td>\n",
       "    </tr>\n",
       "  </tbody>\n",
       "</table>\n",
       "</div>"
      ],
      "text/plain": [
       "       File_Type MarketingType\n",
       "count     198917        198917\n",
       "unique         2             2\n",
       "top       Active             E\n",
       "freq      122921        100946"
      ]
     },
     "execution_count": 10,
     "metadata": {},
     "output_type": "execute_result"
    }
   ],
   "source": [
    "# Statistical description of categorical dataset\n",
    "data.describe(include=object)"
   ]
  },
  {
   "cell_type": "code",
   "execution_count": 11,
   "metadata": {
    "scrolled": true
   },
   "outputs": [
    {
     "data": {
      "text/plain": [
       "Order                    0\n",
       "File_Type                0\n",
       "Part_lot_number          0\n",
       "SoldFlag            122921\n",
       "SoldCount           122921\n",
       "MarketingType            0\n",
       "ReleaseCount             0\n",
       "New_Release_Flag         0\n",
       "StrengthFactor           0\n",
       "PriceReg                 0\n",
       "ReleaseYear              0\n",
       "ItemCount                0\n",
       "LowUserPrice             0\n",
       "LowNetPrice              0\n",
       "dtype: int64"
      ]
     },
     "execution_count": 11,
     "metadata": {},
     "output_type": "execute_result"
    }
   ],
   "source": [
    "data.isnull().sum()"
   ]
  },
  {
   "cell_type": "code",
   "execution_count": 12,
   "metadata": {},
   "outputs": [
    {
     "data": {
      "text/plain": [
       "<AxesSubplot:>"
      ]
     },
     "execution_count": 12,
     "metadata": {},
     "output_type": "execute_result"
    },
    {
     "data": {
      "image/png": "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\n",
      "text/plain": [
       "<Figure size 1440x1440 with 2 Axes>"
      ]
     },
     "metadata": {
      "needs_background": "light"
     },
     "output_type": "display_data"
    }
   ],
   "source": [
    "corr=data.corr()\n",
    "top_cor=corr.index\n",
    "plt.figure(figsize=(20,20))\n",
    "sns.heatmap(data[top_cor].corr(),annot=True,cmap=\"RdYlGn\")"
   ]
  },
  {
   "cell_type": "code",
   "execution_count": 13,
   "metadata": {},
   "outputs": [],
   "source": [
    "# Drop not useful columns\n",
    "data=data.drop(['Order', 'Part_lot_number', 'SoldCount','ReleaseYear'],axis=1)"
   ]
  },
  {
   "cell_type": "code",
   "execution_count": 14,
   "metadata": {
    "scrolled": true
   },
   "outputs": [
    {
     "data": {
      "text/html": [
       "<div>\n",
       "<style scoped>\n",
       "    .dataframe tbody tr th:only-of-type {\n",
       "        vertical-align: middle;\n",
       "    }\n",
       "\n",
       "    .dataframe tbody tr th {\n",
       "        vertical-align: top;\n",
       "    }\n",
       "\n",
       "    .dataframe thead th {\n",
       "        text-align: right;\n",
       "    }\n",
       "</style>\n",
       "<table border=\"1\" class=\"dataframe\">\n",
       "  <thead>\n",
       "    <tr style=\"text-align: right;\">\n",
       "      <th></th>\n",
       "      <th>File_Type</th>\n",
       "      <th>SoldFlag</th>\n",
       "      <th>MarketingType</th>\n",
       "      <th>ReleaseCount</th>\n",
       "      <th>New_Release_Flag</th>\n",
       "      <th>StrengthFactor</th>\n",
       "      <th>PriceReg</th>\n",
       "      <th>ItemCount</th>\n",
       "      <th>LowUserPrice</th>\n",
       "      <th>LowNetPrice</th>\n",
       "    </tr>\n",
       "  </thead>\n",
       "  <tbody>\n",
       "    <tr>\n",
       "      <th>0</th>\n",
       "      <td>Historical</td>\n",
       "      <td>0.0</td>\n",
       "      <td>D</td>\n",
       "      <td>15</td>\n",
       "      <td>1</td>\n",
       "      <td>682743.0</td>\n",
       "      <td>44.99</td>\n",
       "      <td>8</td>\n",
       "      <td>28.97</td>\n",
       "      <td>31.84</td>\n",
       "    </tr>\n",
       "    <tr>\n",
       "      <th>1</th>\n",
       "      <td>Historical</td>\n",
       "      <td>0.0</td>\n",
       "      <td>D</td>\n",
       "      <td>7</td>\n",
       "      <td>1</td>\n",
       "      <td>1016014.0</td>\n",
       "      <td>24.81</td>\n",
       "      <td>39</td>\n",
       "      <td>0.00</td>\n",
       "      <td>15.54</td>\n",
       "    </tr>\n",
       "    <tr>\n",
       "      <th>2</th>\n",
       "      <td>Historical</td>\n",
       "      <td>0.0</td>\n",
       "      <td>D</td>\n",
       "      <td>0</td>\n",
       "      <td>0</td>\n",
       "      <td>340464.0</td>\n",
       "      <td>46.00</td>\n",
       "      <td>34</td>\n",
       "      <td>30.19</td>\n",
       "      <td>27.97</td>\n",
       "    </tr>\n",
       "    <tr>\n",
       "      <th>3</th>\n",
       "      <td>Historical</td>\n",
       "      <td>1.0</td>\n",
       "      <td>D</td>\n",
       "      <td>4</td>\n",
       "      <td>1</td>\n",
       "      <td>334011.0</td>\n",
       "      <td>100.00</td>\n",
       "      <td>20</td>\n",
       "      <td>133.93</td>\n",
       "      <td>83.15</td>\n",
       "    </tr>\n",
       "    <tr>\n",
       "      <th>4</th>\n",
       "      <td>Historical</td>\n",
       "      <td>1.0</td>\n",
       "      <td>D</td>\n",
       "      <td>2</td>\n",
       "      <td>1</td>\n",
       "      <td>1287938.0</td>\n",
       "      <td>121.95</td>\n",
       "      <td>28</td>\n",
       "      <td>4.00</td>\n",
       "      <td>23.99</td>\n",
       "    </tr>\n",
       "    <tr>\n",
       "      <th>5</th>\n",
       "      <td>Historical</td>\n",
       "      <td>0.0</td>\n",
       "      <td>D</td>\n",
       "      <td>0</td>\n",
       "      <td>0</td>\n",
       "      <td>1783153.0</td>\n",
       "      <td>132.00</td>\n",
       "      <td>33</td>\n",
       "      <td>138.98</td>\n",
       "      <td>13.64</td>\n",
       "    </tr>\n",
       "    <tr>\n",
       "      <th>6</th>\n",
       "      <td>Historical</td>\n",
       "      <td>0.0</td>\n",
       "      <td>D</td>\n",
       "      <td>13</td>\n",
       "      <td>1</td>\n",
       "      <td>2314801.0</td>\n",
       "      <td>95.95</td>\n",
       "      <td>33</td>\n",
       "      <td>90.77</td>\n",
       "      <td>46.49</td>\n",
       "    </tr>\n",
       "    <tr>\n",
       "      <th>7</th>\n",
       "      <td>Historical</td>\n",
       "      <td>0.0</td>\n",
       "      <td>D</td>\n",
       "      <td>4</td>\n",
       "      <td>1</td>\n",
       "      <td>721111.0</td>\n",
       "      <td>207.80</td>\n",
       "      <td>57</td>\n",
       "      <td>187.90</td>\n",
       "      <td>30.56</td>\n",
       "    </tr>\n",
       "    <tr>\n",
       "      <th>8</th>\n",
       "      <td>Historical</td>\n",
       "      <td>0.0</td>\n",
       "      <td>D</td>\n",
       "      <td>11</td>\n",
       "      <td>1</td>\n",
       "      <td>436667.0</td>\n",
       "      <td>119.81</td>\n",
       "      <td>36</td>\n",
       "      <td>63.99</td>\n",
       "      <td>96.92</td>\n",
       "    </tr>\n",
       "    <tr>\n",
       "      <th>9</th>\n",
       "      <td>Historical</td>\n",
       "      <td>0.0</td>\n",
       "      <td>D</td>\n",
       "      <td>5</td>\n",
       "      <td>1</td>\n",
       "      <td>6652211.0</td>\n",
       "      <td>49.95</td>\n",
       "      <td>19</td>\n",
       "      <td>53.99</td>\n",
       "      <td>28.99</td>\n",
       "    </tr>\n",
       "  </tbody>\n",
       "</table>\n",
       "</div>"
      ],
      "text/plain": [
       "    File_Type  SoldFlag MarketingType  ReleaseCount  New_Release_Flag  \\\n",
       "0  Historical       0.0             D            15                 1   \n",
       "1  Historical       0.0             D             7                 1   \n",
       "2  Historical       0.0             D             0                 0   \n",
       "3  Historical       1.0             D             4                 1   \n",
       "4  Historical       1.0             D             2                 1   \n",
       "5  Historical       0.0             D             0                 0   \n",
       "6  Historical       0.0             D            13                 1   \n",
       "7  Historical       0.0             D             4                 1   \n",
       "8  Historical       0.0             D            11                 1   \n",
       "9  Historical       0.0             D             5                 1   \n",
       "\n",
       "   StrengthFactor  PriceReg  ItemCount  LowUserPrice  LowNetPrice  \n",
       "0        682743.0     44.99          8         28.97        31.84  \n",
       "1       1016014.0     24.81         39          0.00        15.54  \n",
       "2        340464.0     46.00         34         30.19        27.97  \n",
       "3        334011.0    100.00         20        133.93        83.15  \n",
       "4       1287938.0    121.95         28          4.00        23.99  \n",
       "5       1783153.0    132.00         33        138.98        13.64  \n",
       "6       2314801.0     95.95         33         90.77        46.49  \n",
       "7        721111.0    207.80         57        187.90        30.56  \n",
       "8        436667.0    119.81         36         63.99        96.92  \n",
       "9       6652211.0     49.95         19         53.99        28.99  "
      ]
     },
     "execution_count": 14,
     "metadata": {},
     "output_type": "execute_result"
    }
   ],
   "source": [
    "data.head(10)"
   ]
  },
  {
   "cell_type": "code",
   "execution_count": 16,
   "metadata": {},
   "outputs": [
    {
     "data": {
      "text/plain": [
       "<AxesSubplot:xlabel='ReleaseCount', ylabel='Density'>"
      ]
     },
     "execution_count": 16,
     "metadata": {},
     "output_type": "execute_result"
    },
    {
     "data": {
      "image/png": "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\n",
      "text/plain": [
       "<Figure size 432x288 with 1 Axes>"
      ]
     },
     "metadata": {
      "needs_background": "light"
     },
     "output_type": "display_data"
    }
   ],
   "source": [
    "# Univariate distribution plots \n",
    "sns.distplot(data[\"ReleaseCount\"])"
   ]
  },
  {
   "cell_type": "code",
   "execution_count": 17,
   "metadata": {},
   "outputs": [
    {
     "data": {
      "text/plain": [
       "<AxesSubplot:xlabel='StrengthFactor', ylabel='Density'>"
      ]
     },
     "execution_count": 17,
     "metadata": {},
     "output_type": "execute_result"
    },
    {
     "data": {
      "image/png": "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\n",
      "text/plain": [
       "<Figure size 432x288 with 1 Axes>"
      ]
     },
     "metadata": {
      "needs_background": "light"
     },
     "output_type": "display_data"
    }
   ],
   "source": [
    "sns.distplot(data.StrengthFactor)"
   ]
  },
  {
   "cell_type": "code",
   "execution_count": 18,
   "metadata": {},
   "outputs": [
    {
     "data": {
      "text/plain": [
       "<AxesSubplot:xlabel='PriceReg', ylabel='Density'>"
      ]
     },
     "execution_count": 18,
     "metadata": {},
     "output_type": "execute_result"
    },
    {
     "data": {
      "image/png": "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\n",
      "text/plain": [
       "<Figure size 432x288 with 1 Axes>"
      ]
     },
     "metadata": {
      "needs_background": "light"
     },
     "output_type": "display_data"
    }
   ],
   "source": [
    "sns.distplot(data.PriceReg)"
   ]
  },
  {
   "cell_type": "code",
   "execution_count": 19,
   "metadata": {},
   "outputs": [
    {
     "data": {
      "text/plain": [
       "<AxesSubplot:xlabel='LowUserPrice', ylabel='Density'>"
      ]
     },
     "execution_count": 19,
     "metadata": {},
     "output_type": "execute_result"
    },
    {
     "data": {
      "image/png": "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\n",
      "text/plain": [
       "<Figure size 432x288 with 1 Axes>"
      ]
     },
     "metadata": {
      "needs_background": "light"
     },
     "output_type": "display_data"
    }
   ],
   "source": [
    "sns.distplot(data.LowUserPrice)"
   ]
  },
  {
   "cell_type": "code",
   "execution_count": 20,
   "metadata": {},
   "outputs": [
    {
     "data": {
      "text/plain": [
       "<AxesSubplot:title={'center':'MarketingType distribution'}>"
      ]
     },
     "execution_count": 20,
     "metadata": {},
     "output_type": "execute_result"
    },
    {
     "data": {
      "image/png": "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\n",
      "text/plain": [
       "<Figure size 432x288 with 1 Axes>"
      ]
     },
     "metadata": {
      "needs_background": "light"
     },
     "output_type": "display_data"
    }
   ],
   "source": [
    "data['MarketingType'].value_counts().plot.bar(title='MarketingType distribution')"
   ]
  },
  {
   "cell_type": "code",
   "execution_count": 21,
   "metadata": {
    "scrolled": true
   },
   "outputs": [
    {
     "data": {
      "text/plain": [
       "<AxesSubplot:xlabel='SoldFlag', ylabel='count'>"
      ]
     },
     "execution_count": 21,
     "metadata": {},
     "output_type": "execute_result"
    },
    {
     "data": {
      "image/png": "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\n",
      "text/plain": [
       "<Figure size 432x288 with 1 Axes>"
      ]
     },
     "metadata": {
      "needs_background": "light"
     },
     "output_type": "display_data"
    }
   ],
   "source": [
    "sns.countplot(data.SoldFlag)"
   ]
  },
  {
   "cell_type": "code",
   "execution_count": null,
   "metadata": {},
   "outputs": [],
   "source": []
  },
  {
   "cell_type": "code",
   "execution_count": 22,
   "metadata": {
    "scrolled": true
   },
   "outputs": [],
   "source": [
    "# data_cat= data.select_dtypes(include='object')\n",
    "# data_cat"
   ]
  },
  {
   "cell_type": "code",
   "execution_count": 23,
   "metadata": {},
   "outputs": [],
   "source": [
    "# data_num= data.select_dtypes(exclude='object')\n",
    "# data_num"
   ]
  },
  {
   "cell_type": "code",
   "execution_count": 24,
   "metadata": {},
   "outputs": [],
   "source": [
    "#scaled the numerical feature\n",
    "from sklearn.preprocessing import StandardScaler\n",
    "sc=StandardScaler()"
   ]
  },
  {
   "cell_type": "code",
   "execution_count": 25,
   "metadata": {},
   "outputs": [],
   "source": [
    "scdata=pd.DataFrame(sc.fit_transform(data.drop([\"File_Type\",\"SoldFlag\",\"MarketingType\",\"New_Release_Flag\"],axis=1)),columns=data.drop([\"File_Type\",\"SoldFlag\",\"MarketingType\",\"New_Release_Flag\"],axis=1).columns)"
   ]
  },
  {
   "cell_type": "code",
   "execution_count": 26,
   "metadata": {
    "scrolled": true
   },
   "outputs": [
    {
     "data": {
      "text/html": [
       "<div>\n",
       "<style scoped>\n",
       "    .dataframe tbody tr th:only-of-type {\n",
       "        vertical-align: middle;\n",
       "    }\n",
       "\n",
       "    .dataframe tbody tr th {\n",
       "        vertical-align: top;\n",
       "    }\n",
       "\n",
       "    .dataframe thead th {\n",
       "        text-align: right;\n",
       "    }\n",
       "</style>\n",
       "<table border=\"1\" class=\"dataframe\">\n",
       "  <thead>\n",
       "    <tr style=\"text-align: right;\">\n",
       "      <th></th>\n",
       "      <th>ReleaseCount</th>\n",
       "      <th>StrengthFactor</th>\n",
       "      <th>PriceReg</th>\n",
       "      <th>ItemCount</th>\n",
       "      <th>LowUserPrice</th>\n",
       "      <th>LowNetPrice</th>\n",
       "    </tr>\n",
       "  </thead>\n",
       "  <tbody>\n",
       "    <tr>\n",
       "      <th>0</th>\n",
       "      <td>2.998732</td>\n",
       "      <td>-0.285379</td>\n",
       "      <td>-0.529252</td>\n",
       "      <td>-0.890391</td>\n",
       "      <td>-0.029139</td>\n",
       "      <td>-0.116658</td>\n",
       "    </tr>\n",
       "    <tr>\n",
       "      <th>1</th>\n",
       "      <td>0.928463</td>\n",
       "      <td>-0.066423</td>\n",
       "      <td>-0.761911</td>\n",
       "      <td>-0.064630</td>\n",
       "      <td>-0.448593</td>\n",
       "      <td>-0.243493</td>\n",
       "    </tr>\n",
       "    <tr>\n",
       "      <th>2</th>\n",
       "      <td>-0.883022</td>\n",
       "      <td>-0.510254</td>\n",
       "      <td>-0.517607</td>\n",
       "      <td>-0.197817</td>\n",
       "      <td>-0.011474</td>\n",
       "      <td>-0.146772</td>\n",
       "    </tr>\n",
       "    <tr>\n",
       "      <th>3</th>\n",
       "      <td>0.152112</td>\n",
       "      <td>-0.514494</td>\n",
       "      <td>0.104971</td>\n",
       "      <td>-0.570742</td>\n",
       "      <td>1.490568</td>\n",
       "      <td>0.282602</td>\n",
       "    </tr>\n",
       "    <tr>\n",
       "      <th>4</th>\n",
       "      <td>-0.365455</td>\n",
       "      <td>0.112229</td>\n",
       "      <td>0.358037</td>\n",
       "      <td>-0.357642</td>\n",
       "      <td>-0.390677</td>\n",
       "      <td>-0.177741</td>\n",
       "    </tr>\n",
       "    <tr>\n",
       "      <th>...</th>\n",
       "      <td>...</td>\n",
       "      <td>...</td>\n",
       "      <td>...</td>\n",
       "      <td>...</td>\n",
       "      <td>...</td>\n",
       "      <td>...</td>\n",
       "    </tr>\n",
       "    <tr>\n",
       "      <th>198912</th>\n",
       "      <td>0.928463</td>\n",
       "      <td>-0.595845</td>\n",
       "      <td>-0.207817</td>\n",
       "      <td>0.334932</td>\n",
       "      <td>-0.326101</td>\n",
       "      <td>0.107055</td>\n",
       "    </tr>\n",
       "    <tr>\n",
       "      <th>198913</th>\n",
       "      <td>1.187247</td>\n",
       "      <td>-0.434674</td>\n",
       "      <td>1.799766</td>\n",
       "      <td>0.627944</td>\n",
       "      <td>-0.326970</td>\n",
       "      <td>0.218017</td>\n",
       "    </tr>\n",
       "    <tr>\n",
       "      <th>198914</th>\n",
       "      <td>-0.365455</td>\n",
       "      <td>-0.622725</td>\n",
       "      <td>-0.471490</td>\n",
       "      <td>-0.490829</td>\n",
       "      <td>-0.101388</td>\n",
       "      <td>-0.110589</td>\n",
       "    </tr>\n",
       "    <tr>\n",
       "      <th>198915</th>\n",
       "      <td>-0.365455</td>\n",
       "      <td>-0.485904</td>\n",
       "      <td>-0.506654</td>\n",
       "      <td>-0.490829</td>\n",
       "      <td>-0.051581</td>\n",
       "      <td>-0.069581</td>\n",
       "    </tr>\n",
       "    <tr>\n",
       "      <th>198916</th>\n",
       "      <td>2.998732</td>\n",
       "      <td>-0.656210</td>\n",
       "      <td>0.335555</td>\n",
       "      <td>0.068557</td>\n",
       "      <td>-0.289759</td>\n",
       "      <td>0.107677</td>\n",
       "    </tr>\n",
       "  </tbody>\n",
       "</table>\n",
       "<p>198917 rows × 6 columns</p>\n",
       "</div>"
      ],
      "text/plain": [
       "        ReleaseCount  StrengthFactor  PriceReg  ItemCount  LowUserPrice  \\\n",
       "0           2.998732       -0.285379 -0.529252  -0.890391     -0.029139   \n",
       "1           0.928463       -0.066423 -0.761911  -0.064630     -0.448593   \n",
       "2          -0.883022       -0.510254 -0.517607  -0.197817     -0.011474   \n",
       "3           0.152112       -0.514494  0.104971  -0.570742      1.490568   \n",
       "4          -0.365455        0.112229  0.358037  -0.357642     -0.390677   \n",
       "...              ...             ...       ...        ...           ...   \n",
       "198912      0.928463       -0.595845 -0.207817   0.334932     -0.326101   \n",
       "198913      1.187247       -0.434674  1.799766   0.627944     -0.326970   \n",
       "198914     -0.365455       -0.622725 -0.471490  -0.490829     -0.101388   \n",
       "198915     -0.365455       -0.485904 -0.506654  -0.490829     -0.051581   \n",
       "198916      2.998732       -0.656210  0.335555   0.068557     -0.289759   \n",
       "\n",
       "        LowNetPrice  \n",
       "0         -0.116658  \n",
       "1         -0.243493  \n",
       "2         -0.146772  \n",
       "3          0.282602  \n",
       "4         -0.177741  \n",
       "...             ...  \n",
       "198912     0.107055  \n",
       "198913     0.218017  \n",
       "198914    -0.110589  \n",
       "198915    -0.069581  \n",
       "198916     0.107677  \n",
       "\n",
       "[198917 rows x 6 columns]"
      ]
     },
     "execution_count": 26,
     "metadata": {},
     "output_type": "execute_result"
    }
   ],
   "source": [
    "scdata"
   ]
  },
  {
   "cell_type": "code",
   "execution_count": 27,
   "metadata": {},
   "outputs": [
    {
     "data": {
      "text/plain": [
       "<seaborn.axisgrid.PairGrid at 0x1bb038ad400>"
      ]
     },
     "execution_count": 27,
     "metadata": {},
     "output_type": "execute_result"
    },
    {
     "data": {
      "text/plain": [
       "<Figure size 1440x1440 with 0 Axes>"
      ]
     },
     "metadata": {},
     "output_type": "display_data"
    },
    {
     "data": {
      "image/png": "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\n",
      "text/plain": [
       "<Figure size 1080x1080 with 42 Axes>"
      ]
     },
     "metadata": {
      "needs_background": "light"
     },
     "output_type": "display_data"
    }
   ],
   "source": [
    "plt.figure(figsize=(20,20))\n",
    "sns.pairplot(scdata)"
   ]
  },
  {
   "cell_type": "code",
   "execution_count": 28,
   "metadata": {},
   "outputs": [],
   "source": [
    "#concate num featore and catagorical feature\n",
    "scdata[[\"File_Type\",\"SoldFlag\",\"MarketingType\",\"New_Release_Flag\"]]=data[[\"File_Type\",\"SoldFlag\",\"MarketingType\",\"New_Release_Flag\"]]"
   ]
  },
  {
   "cell_type": "code",
   "execution_count": 29,
   "metadata": {},
   "outputs": [
    {
     "data": {
      "text/html": [
       "<div>\n",
       "<style scoped>\n",
       "    .dataframe tbody tr th:only-of-type {\n",
       "        vertical-align: middle;\n",
       "    }\n",
       "\n",
       "    .dataframe tbody tr th {\n",
       "        vertical-align: top;\n",
       "    }\n",
       "\n",
       "    .dataframe thead th {\n",
       "        text-align: right;\n",
       "    }\n",
       "</style>\n",
       "<table border=\"1\" class=\"dataframe\">\n",
       "  <thead>\n",
       "    <tr style=\"text-align: right;\">\n",
       "      <th></th>\n",
       "      <th>ReleaseCount</th>\n",
       "      <th>StrengthFactor</th>\n",
       "      <th>PriceReg</th>\n",
       "      <th>ItemCount</th>\n",
       "      <th>LowUserPrice</th>\n",
       "      <th>LowNetPrice</th>\n",
       "      <th>File_Type</th>\n",
       "      <th>SoldFlag</th>\n",
       "      <th>MarketingType</th>\n",
       "      <th>New_Release_Flag</th>\n",
       "    </tr>\n",
       "  </thead>\n",
       "  <tbody>\n",
       "    <tr>\n",
       "      <th>0</th>\n",
       "      <td>2.998732</td>\n",
       "      <td>-0.285379</td>\n",
       "      <td>-0.529252</td>\n",
       "      <td>-0.890391</td>\n",
       "      <td>-0.029139</td>\n",
       "      <td>-0.116658</td>\n",
       "      <td>Historical</td>\n",
       "      <td>0.0</td>\n",
       "      <td>D</td>\n",
       "      <td>1</td>\n",
       "    </tr>\n",
       "    <tr>\n",
       "      <th>1</th>\n",
       "      <td>0.928463</td>\n",
       "      <td>-0.066423</td>\n",
       "      <td>-0.761911</td>\n",
       "      <td>-0.064630</td>\n",
       "      <td>-0.448593</td>\n",
       "      <td>-0.243493</td>\n",
       "      <td>Historical</td>\n",
       "      <td>0.0</td>\n",
       "      <td>D</td>\n",
       "      <td>1</td>\n",
       "    </tr>\n",
       "    <tr>\n",
       "      <th>2</th>\n",
       "      <td>-0.883022</td>\n",
       "      <td>-0.510254</td>\n",
       "      <td>-0.517607</td>\n",
       "      <td>-0.197817</td>\n",
       "      <td>-0.011474</td>\n",
       "      <td>-0.146772</td>\n",
       "      <td>Historical</td>\n",
       "      <td>0.0</td>\n",
       "      <td>D</td>\n",
       "      <td>0</td>\n",
       "    </tr>\n",
       "    <tr>\n",
       "      <th>3</th>\n",
       "      <td>0.152112</td>\n",
       "      <td>-0.514494</td>\n",
       "      <td>0.104971</td>\n",
       "      <td>-0.570742</td>\n",
       "      <td>1.490568</td>\n",
       "      <td>0.282602</td>\n",
       "      <td>Historical</td>\n",
       "      <td>1.0</td>\n",
       "      <td>D</td>\n",
       "      <td>1</td>\n",
       "    </tr>\n",
       "    <tr>\n",
       "      <th>4</th>\n",
       "      <td>-0.365455</td>\n",
       "      <td>0.112229</td>\n",
       "      <td>0.358037</td>\n",
       "      <td>-0.357642</td>\n",
       "      <td>-0.390677</td>\n",
       "      <td>-0.177741</td>\n",
       "      <td>Historical</td>\n",
       "      <td>1.0</td>\n",
       "      <td>D</td>\n",
       "      <td>1</td>\n",
       "    </tr>\n",
       "    <tr>\n",
       "      <th>...</th>\n",
       "      <td>...</td>\n",
       "      <td>...</td>\n",
       "      <td>...</td>\n",
       "      <td>...</td>\n",
       "      <td>...</td>\n",
       "      <td>...</td>\n",
       "      <td>...</td>\n",
       "      <td>...</td>\n",
       "      <td>...</td>\n",
       "      <td>...</td>\n",
       "    </tr>\n",
       "    <tr>\n",
       "      <th>198912</th>\n",
       "      <td>0.928463</td>\n",
       "      <td>-0.595845</td>\n",
       "      <td>-0.207817</td>\n",
       "      <td>0.334932</td>\n",
       "      <td>-0.326101</td>\n",
       "      <td>0.107055</td>\n",
       "      <td>Active</td>\n",
       "      <td>NaN</td>\n",
       "      <td>D</td>\n",
       "      <td>1</td>\n",
       "    </tr>\n",
       "    <tr>\n",
       "      <th>198913</th>\n",
       "      <td>1.187247</td>\n",
       "      <td>-0.434674</td>\n",
       "      <td>1.799766</td>\n",
       "      <td>0.627944</td>\n",
       "      <td>-0.326970</td>\n",
       "      <td>0.218017</td>\n",
       "      <td>Active</td>\n",
       "      <td>NaN</td>\n",
       "      <td>D</td>\n",
       "      <td>1</td>\n",
       "    </tr>\n",
       "    <tr>\n",
       "      <th>198914</th>\n",
       "      <td>-0.365455</td>\n",
       "      <td>-0.622725</td>\n",
       "      <td>-0.471490</td>\n",
       "      <td>-0.490829</td>\n",
       "      <td>-0.101388</td>\n",
       "      <td>-0.110589</td>\n",
       "      <td>Active</td>\n",
       "      <td>NaN</td>\n",
       "      <td>E</td>\n",
       "      <td>1</td>\n",
       "    </tr>\n",
       "    <tr>\n",
       "      <th>198915</th>\n",
       "      <td>-0.365455</td>\n",
       "      <td>-0.485904</td>\n",
       "      <td>-0.506654</td>\n",
       "      <td>-0.490829</td>\n",
       "      <td>-0.051581</td>\n",
       "      <td>-0.069581</td>\n",
       "      <td>Active</td>\n",
       "      <td>NaN</td>\n",
       "      <td>E</td>\n",
       "      <td>1</td>\n",
       "    </tr>\n",
       "    <tr>\n",
       "      <th>198916</th>\n",
       "      <td>2.998732</td>\n",
       "      <td>-0.656210</td>\n",
       "      <td>0.335555</td>\n",
       "      <td>0.068557</td>\n",
       "      <td>-0.289759</td>\n",
       "      <td>0.107677</td>\n",
       "      <td>Active</td>\n",
       "      <td>NaN</td>\n",
       "      <td>D</td>\n",
       "      <td>1</td>\n",
       "    </tr>\n",
       "  </tbody>\n",
       "</table>\n",
       "<p>198917 rows × 10 columns</p>\n",
       "</div>"
      ],
      "text/plain": [
       "        ReleaseCount  StrengthFactor  PriceReg  ItemCount  LowUserPrice  \\\n",
       "0           2.998732       -0.285379 -0.529252  -0.890391     -0.029139   \n",
       "1           0.928463       -0.066423 -0.761911  -0.064630     -0.448593   \n",
       "2          -0.883022       -0.510254 -0.517607  -0.197817     -0.011474   \n",
       "3           0.152112       -0.514494  0.104971  -0.570742      1.490568   \n",
       "4          -0.365455        0.112229  0.358037  -0.357642     -0.390677   \n",
       "...              ...             ...       ...        ...           ...   \n",
       "198912      0.928463       -0.595845 -0.207817   0.334932     -0.326101   \n",
       "198913      1.187247       -0.434674  1.799766   0.627944     -0.326970   \n",
       "198914     -0.365455       -0.622725 -0.471490  -0.490829     -0.101388   \n",
       "198915     -0.365455       -0.485904 -0.506654  -0.490829     -0.051581   \n",
       "198916      2.998732       -0.656210  0.335555   0.068557     -0.289759   \n",
       "\n",
       "        LowNetPrice   File_Type  SoldFlag MarketingType  New_Release_Flag  \n",
       "0         -0.116658  Historical       0.0             D                 1  \n",
       "1         -0.243493  Historical       0.0             D                 1  \n",
       "2         -0.146772  Historical       0.0             D                 0  \n",
       "3          0.282602  Historical       1.0             D                 1  \n",
       "4         -0.177741  Historical       1.0             D                 1  \n",
       "...             ...         ...       ...           ...               ...  \n",
       "198912     0.107055      Active       NaN             D                 1  \n",
       "198913     0.218017      Active       NaN             D                 1  \n",
       "198914    -0.110589      Active       NaN             E                 1  \n",
       "198915    -0.069581      Active       NaN             E                 1  \n",
       "198916     0.107677      Active       NaN             D                 1  \n",
       "\n",
       "[198917 rows x 10 columns]"
      ]
     },
     "execution_count": 29,
     "metadata": {},
     "output_type": "execute_result"
    }
   ],
   "source": [
    "scdata"
   ]
  },
  {
   "cell_type": "code",
   "execution_count": 30,
   "metadata": {},
   "outputs": [],
   "source": [
    "# one hot ancode catagorical data \n",
    "f_data=pd.get_dummies(scdata)"
   ]
  },
  {
   "cell_type": "code",
   "execution_count": 31,
   "metadata": {},
   "outputs": [
    {
     "data": {
      "text/html": [
       "<div>\n",
       "<style scoped>\n",
       "    .dataframe tbody tr th:only-of-type {\n",
       "        vertical-align: middle;\n",
       "    }\n",
       "\n",
       "    .dataframe tbody tr th {\n",
       "        vertical-align: top;\n",
       "    }\n",
       "\n",
       "    .dataframe thead th {\n",
       "        text-align: right;\n",
       "    }\n",
       "</style>\n",
       "<table border=\"1\" class=\"dataframe\">\n",
       "  <thead>\n",
       "    <tr style=\"text-align: right;\">\n",
       "      <th></th>\n",
       "      <th>ReleaseCount</th>\n",
       "      <th>StrengthFactor</th>\n",
       "      <th>PriceReg</th>\n",
       "      <th>ItemCount</th>\n",
       "      <th>LowUserPrice</th>\n",
       "      <th>LowNetPrice</th>\n",
       "      <th>SoldFlag</th>\n",
       "      <th>New_Release_Flag</th>\n",
       "      <th>File_Type_Active</th>\n",
       "      <th>File_Type_Historical</th>\n",
       "      <th>MarketingType_D</th>\n",
       "      <th>MarketingType_E</th>\n",
       "    </tr>\n",
       "  </thead>\n",
       "  <tbody>\n",
       "    <tr>\n",
       "      <th>0</th>\n",
       "      <td>2.998732</td>\n",
       "      <td>-0.285379</td>\n",
       "      <td>-0.529252</td>\n",
       "      <td>-0.890391</td>\n",
       "      <td>-0.029139</td>\n",
       "      <td>-0.116658</td>\n",
       "      <td>0.0</td>\n",
       "      <td>1</td>\n",
       "      <td>0</td>\n",
       "      <td>1</td>\n",
       "      <td>1</td>\n",
       "      <td>0</td>\n",
       "    </tr>\n",
       "    <tr>\n",
       "      <th>1</th>\n",
       "      <td>0.928463</td>\n",
       "      <td>-0.066423</td>\n",
       "      <td>-0.761911</td>\n",
       "      <td>-0.064630</td>\n",
       "      <td>-0.448593</td>\n",
       "      <td>-0.243493</td>\n",
       "      <td>0.0</td>\n",
       "      <td>1</td>\n",
       "      <td>0</td>\n",
       "      <td>1</td>\n",
       "      <td>1</td>\n",
       "      <td>0</td>\n",
       "    </tr>\n",
       "    <tr>\n",
       "      <th>2</th>\n",
       "      <td>-0.883022</td>\n",
       "      <td>-0.510254</td>\n",
       "      <td>-0.517607</td>\n",
       "      <td>-0.197817</td>\n",
       "      <td>-0.011474</td>\n",
       "      <td>-0.146772</td>\n",
       "      <td>0.0</td>\n",
       "      <td>0</td>\n",
       "      <td>0</td>\n",
       "      <td>1</td>\n",
       "      <td>1</td>\n",
       "      <td>0</td>\n",
       "    </tr>\n",
       "    <tr>\n",
       "      <th>3</th>\n",
       "      <td>0.152112</td>\n",
       "      <td>-0.514494</td>\n",
       "      <td>0.104971</td>\n",
       "      <td>-0.570742</td>\n",
       "      <td>1.490568</td>\n",
       "      <td>0.282602</td>\n",
       "      <td>1.0</td>\n",
       "      <td>1</td>\n",
       "      <td>0</td>\n",
       "      <td>1</td>\n",
       "      <td>1</td>\n",
       "      <td>0</td>\n",
       "    </tr>\n",
       "    <tr>\n",
       "      <th>4</th>\n",
       "      <td>-0.365455</td>\n",
       "      <td>0.112229</td>\n",
       "      <td>0.358037</td>\n",
       "      <td>-0.357642</td>\n",
       "      <td>-0.390677</td>\n",
       "      <td>-0.177741</td>\n",
       "      <td>1.0</td>\n",
       "      <td>1</td>\n",
       "      <td>0</td>\n",
       "      <td>1</td>\n",
       "      <td>1</td>\n",
       "      <td>0</td>\n",
       "    </tr>\n",
       "    <tr>\n",
       "      <th>...</th>\n",
       "      <td>...</td>\n",
       "      <td>...</td>\n",
       "      <td>...</td>\n",
       "      <td>...</td>\n",
       "      <td>...</td>\n",
       "      <td>...</td>\n",
       "      <td>...</td>\n",
       "      <td>...</td>\n",
       "      <td>...</td>\n",
       "      <td>...</td>\n",
       "      <td>...</td>\n",
       "      <td>...</td>\n",
       "    </tr>\n",
       "    <tr>\n",
       "      <th>198912</th>\n",
       "      <td>0.928463</td>\n",
       "      <td>-0.595845</td>\n",
       "      <td>-0.207817</td>\n",
       "      <td>0.334932</td>\n",
       "      <td>-0.326101</td>\n",
       "      <td>0.107055</td>\n",
       "      <td>NaN</td>\n",
       "      <td>1</td>\n",
       "      <td>1</td>\n",
       "      <td>0</td>\n",
       "      <td>1</td>\n",
       "      <td>0</td>\n",
       "    </tr>\n",
       "    <tr>\n",
       "      <th>198913</th>\n",
       "      <td>1.187247</td>\n",
       "      <td>-0.434674</td>\n",
       "      <td>1.799766</td>\n",
       "      <td>0.627944</td>\n",
       "      <td>-0.326970</td>\n",
       "      <td>0.218017</td>\n",
       "      <td>NaN</td>\n",
       "      <td>1</td>\n",
       "      <td>1</td>\n",
       "      <td>0</td>\n",
       "      <td>1</td>\n",
       "      <td>0</td>\n",
       "    </tr>\n",
       "    <tr>\n",
       "      <th>198914</th>\n",
       "      <td>-0.365455</td>\n",
       "      <td>-0.622725</td>\n",
       "      <td>-0.471490</td>\n",
       "      <td>-0.490829</td>\n",
       "      <td>-0.101388</td>\n",
       "      <td>-0.110589</td>\n",
       "      <td>NaN</td>\n",
       "      <td>1</td>\n",
       "      <td>1</td>\n",
       "      <td>0</td>\n",
       "      <td>0</td>\n",
       "      <td>1</td>\n",
       "    </tr>\n",
       "    <tr>\n",
       "      <th>198915</th>\n",
       "      <td>-0.365455</td>\n",
       "      <td>-0.485904</td>\n",
       "      <td>-0.506654</td>\n",
       "      <td>-0.490829</td>\n",
       "      <td>-0.051581</td>\n",
       "      <td>-0.069581</td>\n",
       "      <td>NaN</td>\n",
       "      <td>1</td>\n",
       "      <td>1</td>\n",
       "      <td>0</td>\n",
       "      <td>0</td>\n",
       "      <td>1</td>\n",
       "    </tr>\n",
       "    <tr>\n",
       "      <th>198916</th>\n",
       "      <td>2.998732</td>\n",
       "      <td>-0.656210</td>\n",
       "      <td>0.335555</td>\n",
       "      <td>0.068557</td>\n",
       "      <td>-0.289759</td>\n",
       "      <td>0.107677</td>\n",
       "      <td>NaN</td>\n",
       "      <td>1</td>\n",
       "      <td>1</td>\n",
       "      <td>0</td>\n",
       "      <td>1</td>\n",
       "      <td>0</td>\n",
       "    </tr>\n",
       "  </tbody>\n",
       "</table>\n",
       "<p>198917 rows × 12 columns</p>\n",
       "</div>"
      ],
      "text/plain": [
       "        ReleaseCount  StrengthFactor  PriceReg  ItemCount  LowUserPrice  \\\n",
       "0           2.998732       -0.285379 -0.529252  -0.890391     -0.029139   \n",
       "1           0.928463       -0.066423 -0.761911  -0.064630     -0.448593   \n",
       "2          -0.883022       -0.510254 -0.517607  -0.197817     -0.011474   \n",
       "3           0.152112       -0.514494  0.104971  -0.570742      1.490568   \n",
       "4          -0.365455        0.112229  0.358037  -0.357642     -0.390677   \n",
       "...              ...             ...       ...        ...           ...   \n",
       "198912      0.928463       -0.595845 -0.207817   0.334932     -0.326101   \n",
       "198913      1.187247       -0.434674  1.799766   0.627944     -0.326970   \n",
       "198914     -0.365455       -0.622725 -0.471490  -0.490829     -0.101388   \n",
       "198915     -0.365455       -0.485904 -0.506654  -0.490829     -0.051581   \n",
       "198916      2.998732       -0.656210  0.335555   0.068557     -0.289759   \n",
       "\n",
       "        LowNetPrice  SoldFlag  New_Release_Flag  File_Type_Active  \\\n",
       "0         -0.116658       0.0                 1                 0   \n",
       "1         -0.243493       0.0                 1                 0   \n",
       "2         -0.146772       0.0                 0                 0   \n",
       "3          0.282602       1.0                 1                 0   \n",
       "4         -0.177741       1.0                 1                 0   \n",
       "...             ...       ...               ...               ...   \n",
       "198912     0.107055       NaN                 1                 1   \n",
       "198913     0.218017       NaN                 1                 1   \n",
       "198914    -0.110589       NaN                 1                 1   \n",
       "198915    -0.069581       NaN                 1                 1   \n",
       "198916     0.107677       NaN                 1                 1   \n",
       "\n",
       "        File_Type_Historical  MarketingType_D  MarketingType_E  \n",
       "0                          1                1                0  \n",
       "1                          1                1                0  \n",
       "2                          1                1                0  \n",
       "3                          1                1                0  \n",
       "4                          1                1                0  \n",
       "...                      ...              ...              ...  \n",
       "198912                     0                1                0  \n",
       "198913                     0                1                0  \n",
       "198914                     0                0                1  \n",
       "198915                     0                0                1  \n",
       "198916                     0                1                0  \n",
       "\n",
       "[198917 rows x 12 columns]"
      ]
     },
     "execution_count": 31,
     "metadata": {},
     "output_type": "execute_result"
    }
   ],
   "source": [
    "f_data"
   ]
  },
  {
   "cell_type": "code",
   "execution_count": 32,
   "metadata": {},
   "outputs": [],
   "source": [
    "# Test data extract by SoldFlag null values\n",
    "test=f_data[f_data.SoldFlag.isnull()]"
   ]
  },
  {
   "cell_type": "code",
   "execution_count": 33,
   "metadata": {},
   "outputs": [
    {
     "data": {
      "text/html": [
       "<div>\n",
       "<style scoped>\n",
       "    .dataframe tbody tr th:only-of-type {\n",
       "        vertical-align: middle;\n",
       "    }\n",
       "\n",
       "    .dataframe tbody tr th {\n",
       "        vertical-align: top;\n",
       "    }\n",
       "\n",
       "    .dataframe thead th {\n",
       "        text-align: right;\n",
       "    }\n",
       "</style>\n",
       "<table border=\"1\" class=\"dataframe\">\n",
       "  <thead>\n",
       "    <tr style=\"text-align: right;\">\n",
       "      <th></th>\n",
       "      <th>ReleaseCount</th>\n",
       "      <th>StrengthFactor</th>\n",
       "      <th>PriceReg</th>\n",
       "      <th>ItemCount</th>\n",
       "      <th>LowUserPrice</th>\n",
       "      <th>LowNetPrice</th>\n",
       "      <th>SoldFlag</th>\n",
       "      <th>New_Release_Flag</th>\n",
       "      <th>File_Type_Active</th>\n",
       "      <th>File_Type_Historical</th>\n",
       "      <th>MarketingType_D</th>\n",
       "      <th>MarketingType_E</th>\n",
       "    </tr>\n",
       "  </thead>\n",
       "  <tbody>\n",
       "    <tr>\n",
       "      <th>75996</th>\n",
       "      <td>1.446030</td>\n",
       "      <td>0.088276</td>\n",
       "      <td>0.022191</td>\n",
       "      <td>0.201745</td>\n",
       "      <td>-0.282664</td>\n",
       "      <td>0.173118</td>\n",
       "      <td>NaN</td>\n",
       "      <td>1</td>\n",
       "      <td>1</td>\n",
       "      <td>0</td>\n",
       "      <td>0</td>\n",
       "      <td>1</td>\n",
       "    </tr>\n",
       "    <tr>\n",
       "      <th>75997</th>\n",
       "      <td>0.152112</td>\n",
       "      <td>0.847492</td>\n",
       "      <td>-0.483019</td>\n",
       "      <td>-1.103491</td>\n",
       "      <td>-0.448593</td>\n",
       "      <td>0.016869</td>\n",
       "      <td>NaN</td>\n",
       "      <td>1</td>\n",
       "      <td>1</td>\n",
       "      <td>0</td>\n",
       "      <td>0</td>\n",
       "      <td>1</td>\n",
       "    </tr>\n",
       "    <tr>\n",
       "      <th>75998</th>\n",
       "      <td>-0.106671</td>\n",
       "      <td>3.793226</td>\n",
       "      <td>-0.529713</td>\n",
       "      <td>-1.103491</td>\n",
       "      <td>-0.448593</td>\n",
       "      <td>-0.364415</td>\n",
       "      <td>NaN</td>\n",
       "      <td>1</td>\n",
       "      <td>1</td>\n",
       "      <td>0</td>\n",
       "      <td>0</td>\n",
       "      <td>1</td>\n",
       "    </tr>\n",
       "    <tr>\n",
       "      <th>75999</th>\n",
       "      <td>1.187247</td>\n",
       "      <td>-0.673781</td>\n",
       "      <td>1.476948</td>\n",
       "      <td>0.068557</td>\n",
       "      <td>-0.250087</td>\n",
       "      <td>0.100986</td>\n",
       "      <td>NaN</td>\n",
       "      <td>1</td>\n",
       "      <td>1</td>\n",
       "      <td>0</td>\n",
       "      <td>0</td>\n",
       "      <td>1</td>\n",
       "    </tr>\n",
       "    <tr>\n",
       "      <th>76000</th>\n",
       "      <td>0.410896</td>\n",
       "      <td>3.814292</td>\n",
       "      <td>-0.080073</td>\n",
       "      <td>-1.103491</td>\n",
       "      <td>-0.448593</td>\n",
       "      <td>0.256534</td>\n",
       "      <td>NaN</td>\n",
       "      <td>1</td>\n",
       "      <td>1</td>\n",
       "      <td>0</td>\n",
       "      <td>0</td>\n",
       "      <td>1</td>\n",
       "    </tr>\n",
       "  </tbody>\n",
       "</table>\n",
       "</div>"
      ],
      "text/plain": [
       "       ReleaseCount  StrengthFactor  PriceReg  ItemCount  LowUserPrice  \\\n",
       "75996      1.446030        0.088276  0.022191   0.201745     -0.282664   \n",
       "75997      0.152112        0.847492 -0.483019  -1.103491     -0.448593   \n",
       "75998     -0.106671        3.793226 -0.529713  -1.103491     -0.448593   \n",
       "75999      1.187247       -0.673781  1.476948   0.068557     -0.250087   \n",
       "76000      0.410896        3.814292 -0.080073  -1.103491     -0.448593   \n",
       "\n",
       "       LowNetPrice  SoldFlag  New_Release_Flag  File_Type_Active  \\\n",
       "75996     0.173118       NaN                 1                 1   \n",
       "75997     0.016869       NaN                 1                 1   \n",
       "75998    -0.364415       NaN                 1                 1   \n",
       "75999     0.100986       NaN                 1                 1   \n",
       "76000     0.256534       NaN                 1                 1   \n",
       "\n",
       "       File_Type_Historical  MarketingType_D  MarketingType_E  \n",
       "75996                     0                0                1  \n",
       "75997                     0                0                1  \n",
       "75998                     0                0                1  \n",
       "75999                     0                0                1  \n",
       "76000                     0                0                1  "
      ]
     },
     "execution_count": 33,
     "metadata": {},
     "output_type": "execute_result"
    }
   ],
   "source": [
    "test.head()"
   ]
  },
  {
   "cell_type": "code",
   "execution_count": 34,
   "metadata": {},
   "outputs": [],
   "source": [
    "# train data extract by SoldFlag notnull values\n",
    "train=f_data[f_data.SoldFlag.notnull()]"
   ]
  },
  {
   "cell_type": "code",
   "execution_count": 35,
   "metadata": {
    "scrolled": true
   },
   "outputs": [
    {
     "data": {
      "text/html": [
       "<div>\n",
       "<style scoped>\n",
       "    .dataframe tbody tr th:only-of-type {\n",
       "        vertical-align: middle;\n",
       "    }\n",
       "\n",
       "    .dataframe tbody tr th {\n",
       "        vertical-align: top;\n",
       "    }\n",
       "\n",
       "    .dataframe thead th {\n",
       "        text-align: right;\n",
       "    }\n",
       "</style>\n",
       "<table border=\"1\" class=\"dataframe\">\n",
       "  <thead>\n",
       "    <tr style=\"text-align: right;\">\n",
       "      <th></th>\n",
       "      <th>ReleaseCount</th>\n",
       "      <th>StrengthFactor</th>\n",
       "      <th>PriceReg</th>\n",
       "      <th>ItemCount</th>\n",
       "      <th>LowUserPrice</th>\n",
       "      <th>LowNetPrice</th>\n",
       "      <th>SoldFlag</th>\n",
       "      <th>New_Release_Flag</th>\n",
       "      <th>File_Type_Active</th>\n",
       "      <th>File_Type_Historical</th>\n",
       "      <th>MarketingType_D</th>\n",
       "      <th>MarketingType_E</th>\n",
       "    </tr>\n",
       "  </thead>\n",
       "  <tbody>\n",
       "    <tr>\n",
       "      <th>0</th>\n",
       "      <td>2.998732</td>\n",
       "      <td>-0.285379</td>\n",
       "      <td>-0.529252</td>\n",
       "      <td>-0.890391</td>\n",
       "      <td>-0.029139</td>\n",
       "      <td>-0.116658</td>\n",
       "      <td>0.0</td>\n",
       "      <td>1</td>\n",
       "      <td>0</td>\n",
       "      <td>1</td>\n",
       "      <td>1</td>\n",
       "      <td>0</td>\n",
       "    </tr>\n",
       "    <tr>\n",
       "      <th>1</th>\n",
       "      <td>0.928463</td>\n",
       "      <td>-0.066423</td>\n",
       "      <td>-0.761911</td>\n",
       "      <td>-0.064630</td>\n",
       "      <td>-0.448593</td>\n",
       "      <td>-0.243493</td>\n",
       "      <td>0.0</td>\n",
       "      <td>1</td>\n",
       "      <td>0</td>\n",
       "      <td>1</td>\n",
       "      <td>1</td>\n",
       "      <td>0</td>\n",
       "    </tr>\n",
       "    <tr>\n",
       "      <th>2</th>\n",
       "      <td>-0.883022</td>\n",
       "      <td>-0.510254</td>\n",
       "      <td>-0.517607</td>\n",
       "      <td>-0.197817</td>\n",
       "      <td>-0.011474</td>\n",
       "      <td>-0.146772</td>\n",
       "      <td>0.0</td>\n",
       "      <td>0</td>\n",
       "      <td>0</td>\n",
       "      <td>1</td>\n",
       "      <td>1</td>\n",
       "      <td>0</td>\n",
       "    </tr>\n",
       "    <tr>\n",
       "      <th>3</th>\n",
       "      <td>0.152112</td>\n",
       "      <td>-0.514494</td>\n",
       "      <td>0.104971</td>\n",
       "      <td>-0.570742</td>\n",
       "      <td>1.490568</td>\n",
       "      <td>0.282602</td>\n",
       "      <td>1.0</td>\n",
       "      <td>1</td>\n",
       "      <td>0</td>\n",
       "      <td>1</td>\n",
       "      <td>1</td>\n",
       "      <td>0</td>\n",
       "    </tr>\n",
       "    <tr>\n",
       "      <th>4</th>\n",
       "      <td>-0.365455</td>\n",
       "      <td>0.112229</td>\n",
       "      <td>0.358037</td>\n",
       "      <td>-0.357642</td>\n",
       "      <td>-0.390677</td>\n",
       "      <td>-0.177741</td>\n",
       "      <td>1.0</td>\n",
       "      <td>1</td>\n",
       "      <td>0</td>\n",
       "      <td>1</td>\n",
       "      <td>1</td>\n",
       "      <td>0</td>\n",
       "    </tr>\n",
       "  </tbody>\n",
       "</table>\n",
       "</div>"
      ],
      "text/plain": [
       "   ReleaseCount  StrengthFactor  PriceReg  ItemCount  LowUserPrice  \\\n",
       "0      2.998732       -0.285379 -0.529252  -0.890391     -0.029139   \n",
       "1      0.928463       -0.066423 -0.761911  -0.064630     -0.448593   \n",
       "2     -0.883022       -0.510254 -0.517607  -0.197817     -0.011474   \n",
       "3      0.152112       -0.514494  0.104971  -0.570742      1.490568   \n",
       "4     -0.365455        0.112229  0.358037  -0.357642     -0.390677   \n",
       "\n",
       "   LowNetPrice  SoldFlag  New_Release_Flag  File_Type_Active  \\\n",
       "0    -0.116658       0.0                 1                 0   \n",
       "1    -0.243493       0.0                 1                 0   \n",
       "2    -0.146772       0.0                 0                 0   \n",
       "3     0.282602       1.0                 1                 0   \n",
       "4    -0.177741       1.0                 1                 0   \n",
       "\n",
       "   File_Type_Historical  MarketingType_D  MarketingType_E  \n",
       "0                     1                1                0  \n",
       "1                     1                1                0  \n",
       "2                     1                1                0  \n",
       "3                     1                1                0  \n",
       "4                     1                1                0  "
      ]
     },
     "execution_count": 35,
     "metadata": {},
     "output_type": "execute_result"
    }
   ],
   "source": [
    "train.head()"
   ]
  },
  {
   "cell_type": "code",
   "execution_count": 36,
   "metadata": {},
   "outputs": [],
   "source": [
    "X=train.drop(\"SoldFlag\",axis=1)"
   ]
  },
  {
   "cell_type": "code",
   "execution_count": 37,
   "metadata": {},
   "outputs": [
    {
     "data": {
      "text/html": [
       "<div>\n",
       "<style scoped>\n",
       "    .dataframe tbody tr th:only-of-type {\n",
       "        vertical-align: middle;\n",
       "    }\n",
       "\n",
       "    .dataframe tbody tr th {\n",
       "        vertical-align: top;\n",
       "    }\n",
       "\n",
       "    .dataframe thead th {\n",
       "        text-align: right;\n",
       "    }\n",
       "</style>\n",
       "<table border=\"1\" class=\"dataframe\">\n",
       "  <thead>\n",
       "    <tr style=\"text-align: right;\">\n",
       "      <th></th>\n",
       "      <th>ReleaseCount</th>\n",
       "      <th>StrengthFactor</th>\n",
       "      <th>PriceReg</th>\n",
       "      <th>ItemCount</th>\n",
       "      <th>LowUserPrice</th>\n",
       "      <th>LowNetPrice</th>\n",
       "      <th>New_Release_Flag</th>\n",
       "      <th>File_Type_Active</th>\n",
       "      <th>File_Type_Historical</th>\n",
       "      <th>MarketingType_D</th>\n",
       "      <th>MarketingType_E</th>\n",
       "    </tr>\n",
       "  </thead>\n",
       "  <tbody>\n",
       "    <tr>\n",
       "      <th>0</th>\n",
       "      <td>2.998732</td>\n",
       "      <td>-0.285379</td>\n",
       "      <td>-0.529252</td>\n",
       "      <td>-0.890391</td>\n",
       "      <td>-0.029139</td>\n",
       "      <td>-0.116658</td>\n",
       "      <td>1</td>\n",
       "      <td>0</td>\n",
       "      <td>1</td>\n",
       "      <td>1</td>\n",
       "      <td>0</td>\n",
       "    </tr>\n",
       "    <tr>\n",
       "      <th>1</th>\n",
       "      <td>0.928463</td>\n",
       "      <td>-0.066423</td>\n",
       "      <td>-0.761911</td>\n",
       "      <td>-0.064630</td>\n",
       "      <td>-0.448593</td>\n",
       "      <td>-0.243493</td>\n",
       "      <td>1</td>\n",
       "      <td>0</td>\n",
       "      <td>1</td>\n",
       "      <td>1</td>\n",
       "      <td>0</td>\n",
       "    </tr>\n",
       "    <tr>\n",
       "      <th>2</th>\n",
       "      <td>-0.883022</td>\n",
       "      <td>-0.510254</td>\n",
       "      <td>-0.517607</td>\n",
       "      <td>-0.197817</td>\n",
       "      <td>-0.011474</td>\n",
       "      <td>-0.146772</td>\n",
       "      <td>0</td>\n",
       "      <td>0</td>\n",
       "      <td>1</td>\n",
       "      <td>1</td>\n",
       "      <td>0</td>\n",
       "    </tr>\n",
       "    <tr>\n",
       "      <th>3</th>\n",
       "      <td>0.152112</td>\n",
       "      <td>-0.514494</td>\n",
       "      <td>0.104971</td>\n",
       "      <td>-0.570742</td>\n",
       "      <td>1.490568</td>\n",
       "      <td>0.282602</td>\n",
       "      <td>1</td>\n",
       "      <td>0</td>\n",
       "      <td>1</td>\n",
       "      <td>1</td>\n",
       "      <td>0</td>\n",
       "    </tr>\n",
       "    <tr>\n",
       "      <th>4</th>\n",
       "      <td>-0.365455</td>\n",
       "      <td>0.112229</td>\n",
       "      <td>0.358037</td>\n",
       "      <td>-0.357642</td>\n",
       "      <td>-0.390677</td>\n",
       "      <td>-0.177741</td>\n",
       "      <td>1</td>\n",
       "      <td>0</td>\n",
       "      <td>1</td>\n",
       "      <td>1</td>\n",
       "      <td>0</td>\n",
       "    </tr>\n",
       "  </tbody>\n",
       "</table>\n",
       "</div>"
      ],
      "text/plain": [
       "   ReleaseCount  StrengthFactor  PriceReg  ItemCount  LowUserPrice  \\\n",
       "0      2.998732       -0.285379 -0.529252  -0.890391     -0.029139   \n",
       "1      0.928463       -0.066423 -0.761911  -0.064630     -0.448593   \n",
       "2     -0.883022       -0.510254 -0.517607  -0.197817     -0.011474   \n",
       "3      0.152112       -0.514494  0.104971  -0.570742      1.490568   \n",
       "4     -0.365455        0.112229  0.358037  -0.357642     -0.390677   \n",
       "\n",
       "   LowNetPrice  New_Release_Flag  File_Type_Active  File_Type_Historical  \\\n",
       "0    -0.116658                 1                 0                     1   \n",
       "1    -0.243493                 1                 0                     1   \n",
       "2    -0.146772                 0                 0                     1   \n",
       "3     0.282602                 1                 0                     1   \n",
       "4    -0.177741                 1                 0                     1   \n",
       "\n",
       "   MarketingType_D  MarketingType_E  \n",
       "0                1                0  \n",
       "1                1                0  \n",
       "2                1                0  \n",
       "3                1                0  \n",
       "4                1                0  "
      ]
     },
     "execution_count": 37,
     "metadata": {},
     "output_type": "execute_result"
    }
   ],
   "source": [
    "X.head(5)"
   ]
  },
  {
   "cell_type": "code",
   "execution_count": 38,
   "metadata": {},
   "outputs": [],
   "source": [
    "y=train.SoldFlag"
   ]
  },
  {
   "cell_type": "code",
   "execution_count": 39,
   "metadata": {},
   "outputs": [
    {
     "data": {
      "text/plain": [
       "0    0.0\n",
       "1    0.0\n",
       "2    0.0\n",
       "3    1.0\n",
       "4    1.0\n",
       "Name: SoldFlag, dtype: float64"
      ]
     },
     "execution_count": 39,
     "metadata": {},
     "output_type": "execute_result"
    }
   ],
   "source": [
    "y.head(5)"
   ]
  },
  {
   "cell_type": "code",
   "execution_count": 40,
   "metadata": {},
   "outputs": [],
   "source": [
    "# Train-test split\n",
    "from sklearn.model_selection import train_test_split\n",
    "xtrain,xtest,ytrain,ytest=train_test_split(X,y,test_size=.3,random_state=1)"
   ]
  },
  {
   "cell_type": "code",
   "execution_count": 41,
   "metadata": {},
   "outputs": [
    {
     "data": {
      "text/plain": [
       "(53197, 11)"
      ]
     },
     "execution_count": 41,
     "metadata": {},
     "output_type": "execute_result"
    }
   ],
   "source": [
    "xtrain.shape"
   ]
  },
  {
   "cell_type": "code",
   "execution_count": 42,
   "metadata": {},
   "outputs": [
    {
     "name": "stdout",
     "output_type": "stream",
     "text": [
      "Class 0 numbers:  44077\n",
      "Class 1 numbers:  44077\n"
     ]
    }
   ],
   "source": [
    "# Balancing the classes using SMOTE\n",
    "from imblearn.over_sampling import SMOTE\n",
    "sm = SMOTE(random_state=12)\n",
    "x_train_sm, y_train_sm = sm.fit_resample(xtrain, ytrain)\n",
    "\n",
    "print(\"Class 0 numbers: \" , len(y_train_sm[y_train_sm==0.0]))\n",
    "print(\"Class 1 numbers: \" , len(y_train_sm[y_train_sm==1.0]))"
   ]
  },
  {
   "cell_type": "code",
   "execution_count": 43,
   "metadata": {},
   "outputs": [],
   "source": [
    "# Model training\n",
    "from sklearn.linear_model import LogisticRegression\n",
    "lr=LogisticRegression()"
   ]
  },
  {
   "cell_type": "code",
   "execution_count": 44,
   "metadata": {},
   "outputs": [],
   "source": [
    "#model with out blacing\n",
    "model_Log=lr.fit(xtrain,ytrain)"
   ]
  },
  {
   "cell_type": "code",
   "execution_count": 45,
   "metadata": {},
   "outputs": [],
   "source": [
    "pred= model_Log.predict(xtest)"
   ]
  },
  {
   "cell_type": "code",
   "execution_count": 46,
   "metadata": {},
   "outputs": [],
   "source": [
    "# Clasification report\n",
    "from sklearn.metrics import *"
   ]
  },
  {
   "cell_type": "code",
   "execution_count": 47,
   "metadata": {},
   "outputs": [
    {
     "name": "stdout",
     "output_type": "stream",
     "text": [
      "              precision    recall  f1-score   support\n",
      "\n",
      "         0.0       0.84      0.99      0.91     18923\n",
      "         1.0       0.60      0.08      0.14      3876\n",
      "\n",
      "    accuracy                           0.83     22799\n",
      "   macro avg       0.72      0.54      0.53     22799\n",
      "weighted avg       0.80      0.83      0.78     22799\n",
      "\n"
     ]
    }
   ],
   "source": [
    "cl=classification_report(ytest,pred)\n",
    "print(cl)"
   ]
  },
  {
   "cell_type": "code",
   "execution_count": 48,
   "metadata": {},
   "outputs": [
    {
     "data": {
      "text/plain": [
       "array([[18708,   215],\n",
       "       [ 3557,   319]], dtype=int64)"
      ]
     },
     "execution_count": 48,
     "metadata": {},
     "output_type": "execute_result"
    }
   ],
   "source": [
    "confusion_matrix(ytest,pred)"
   ]
  },
  {
   "cell_type": "code",
   "execution_count": 49,
   "metadata": {},
   "outputs": [],
   "source": [
    "#model after balancing(SMOTE)\n",
    "model_Log_sm=lr.fit(x_train_sm,y_train_sm)"
   ]
  },
  {
   "cell_type": "code",
   "execution_count": 50,
   "metadata": {},
   "outputs": [],
   "source": [
    "pred_sm=model_Log_sm.predict(xtest)"
   ]
  },
  {
   "cell_type": "code",
   "execution_count": 51,
   "metadata": {},
   "outputs": [
    {
     "name": "stdout",
     "output_type": "stream",
     "text": [
      "              precision    recall  f1-score   support\n",
      "\n",
      "         0.0       0.91      0.71      0.79     18923\n",
      "         1.0       0.31      0.66      0.42      3876\n",
      "\n",
      "    accuracy                           0.70     22799\n",
      "   macro avg       0.61      0.68      0.61     22799\n",
      "weighted avg       0.81      0.70      0.73     22799\n",
      "\n"
     ]
    }
   ],
   "source": [
    "cl_sm=classification_report(ytest,pred_sm)\n",
    "print(cl_sm)"
   ]
  },
  {
   "cell_type": "code",
   "execution_count": 52,
   "metadata": {},
   "outputs": [
    {
     "data": {
      "text/plain": [
       "array([[13342,  5581],\n",
       "       [ 1325,  2551]], dtype=int64)"
      ]
     },
     "execution_count": 52,
     "metadata": {},
     "output_type": "execute_result"
    }
   ],
   "source": [
    "confusion_matrix(ytest,pred_sm)"
   ]
  },
  {
   "cell_type": "markdown",
   "metadata": {},
   "source": [
    "#other model"
   ]
  },
  {
   "cell_type": "code",
   "execution_count": 53,
   "metadata": {},
   "outputs": [],
   "source": [
    "# Random forest Classifier\n",
    "from sklearn.ensemble import RandomForestClassifier\n",
    "rf=RandomForestClassifier()"
   ]
  },
  {
   "cell_type": "code",
   "execution_count": 54,
   "metadata": {},
   "outputs": [],
   "source": [
    "# Grid search for cross validation\n",
    "from sklearn.model_selection import GridSearchCV\n",
    "\n",
    "param_dist = {'max_depth': [2, 3, 4],'bootstrap': [True, False],'max_features': ['auto', 'sqrt', 'log2', None],'criterion': ['gini', 'entropy']}\n",
    "\n",
    "cv_rf = GridSearchCV(rf, cv = 10,param_grid=param_dist)\n"
   ]
  },
  {
   "cell_type": "code",
   "execution_count": 56,
   "metadata": {},
   "outputs": [],
   "source": [
    "#cv_rf.fit(x_train_sm,y_train_sm)"
   ]
  },
  {
   "cell_type": "code",
   "execution_count": 58,
   "metadata": {},
   "outputs": [],
   "source": [
    "#cv_rf.best_params_"
   ]
  },
  {
   "cell_type": "code",
   "execution_count": 59,
   "metadata": {},
   "outputs": [],
   "source": [
    "model_rf=RandomForestClassifier(bootstrap = True, criterion = 'gini', max_depth = 4, max_features = None)"
   ]
  },
  {
   "cell_type": "code",
   "execution_count": 60,
   "metadata": {},
   "outputs": [],
   "source": [
    "ypred_rf=model_rf.fit(x_train_sm,y_train_sm).predict(xtest)"
   ]
  },
  {
   "cell_type": "code",
   "execution_count": 61,
   "metadata": {},
   "outputs": [
    {
     "name": "stdout",
     "output_type": "stream",
     "text": [
      "              precision    recall  f1-score   support\n",
      "\n",
      "         0.0       0.92      0.68      0.78     18923\n",
      "         1.0       0.31      0.70      0.43      3876\n",
      "\n",
      "    accuracy                           0.68     22799\n",
      "   macro avg       0.61      0.69      0.60     22799\n",
      "weighted avg       0.81      0.68      0.72     22799\n",
      "\n"
     ]
    }
   ],
   "source": [
    "print(classification_report(ytest,ypred_rf))"
   ]
  },
  {
   "cell_type": "code",
   "execution_count": 62,
   "metadata": {
    "scrolled": true
   },
   "outputs": [
    {
     "data": {
      "text/plain": [
       "array([[12824,  6099],\n",
       "       [ 1147,  2729]], dtype=int64)"
      ]
     },
     "execution_count": 62,
     "metadata": {},
     "output_type": "execute_result"
    }
   ],
   "source": [
    "confusion_matrix(ytest,ypred_rf)"
   ]
  },
 
